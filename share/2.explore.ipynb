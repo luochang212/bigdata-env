{
 "cells": [
  {
   "cell_type": "markdown",
   "id": "c2ff7bc5-4bcf-4d8e-ba63-4338aea2d9ee",
   "metadata": {},
   "source": [
    "# 简单探索数据集\n",
    "\n",
    "数据集：[Beijing PM2.5](https://archive.ics.uci.edu/dataset/381/beijing+pm2+5+data)"
   ]
  },
  {
   "cell_type": "code",
   "execution_count": 1,
   "id": "e069137e-9a85-4d7e-bafa-774d355083ae",
   "metadata": {},
   "outputs": [
    {
     "name": "stderr",
     "output_type": "stream",
     "text": [
      "Setting default log level to \"WARN\".\n",
      "To adjust logging level use sc.setLogLevel(newLevel). For SparkR, use setLogLevel(newLevel).\n"
     ]
    },
    {
     "name": "stdout",
     "output_type": "stream",
     "text": [
      "25/09/30 09:53:28 WARN NativeCodeLoader: Unable to load native-hadoop library for your platform... using builtin-java classes where applicable\n"
     ]
    }
   ],
   "source": [
    "from pyspark.sql import SparkSession, functions as F\n",
    "\n",
    "spark = (\n",
    "    SparkSession.builder\n",
    "    .master(\"local[*]\")\n",
    "    .appName(\"PRSA-Analysis\")\n",
    "    .getOrCreate()\n",
    ")"
   ]
  },
  {
   "cell_type": "code",
   "execution_count": 2,
   "id": "c20fc95b-5d7d-44ec-bf30-195d0e62ec73",
   "metadata": {},
   "outputs": [
    {
     "name": "stderr",
     "output_type": "stream",
     "text": [
      "                                                                                "
     ]
    }
   ],
   "source": [
    "# 导入 CSV 文件\n",
    "df = (\n",
    "    spark.read.option(\"header\", \"true\")\n",
    "    .option(\"inferSchema\", \"true\")\n",
    "    .option(\"nullValue\", \"NA\")\n",
    "    .csv(\"/user/root/PRSA_data_2010.1.1-2014.12.31.csv\")\n",
    ")"
   ]
  },
  {
   "cell_type": "code",
   "execution_count": 3,
   "id": "e0ff2f02-6e1a-4e8d-b62b-0008924a2b0c",
   "metadata": {},
   "outputs": [
    {
     "name": "stdout",
     "output_type": "stream",
     "text": [
      "+---+----+-----+---+----+-----+----+-----+------+----+----+---+---+\n",
      "| No|year|month|day|hour|pm2.5|DEWP| TEMP|  PRES|cbwd| Iws| Is| Ir|\n",
      "+---+----+-----+---+----+-----+----+-----+------+----+----+---+---+\n",
      "|  1|2010|    1|  1|   0| null| -21|-11.0|1021.0|  NW|1.79|  0|  0|\n",
      "|  2|2010|    1|  1|   1| null| -21|-12.0|1020.0|  NW|4.92|  0|  0|\n",
      "|  3|2010|    1|  1|   2| null| -21|-11.0|1019.0|  NW|6.71|  0|  0|\n",
      "+---+----+-----+---+----+-----+----+-----+------+----+----+---+---+\n",
      "only showing top 3 rows\n",
      "\n"
     ]
    }
   ],
   "source": [
    "df.show(3)"
   ]
  },
  {
   "cell_type": "markdown",
   "id": "661e9a09-c194-43f4-bcbb-9b29872af550",
   "metadata": {},
   "source": [
    "## 1. 表字段"
   ]
  },
  {
   "cell_type": "code",
   "execution_count": 4,
   "id": "3a10fb9c-cd06-4bc6-a89f-daf004a93dd9",
   "metadata": {},
   "outputs": [
    {
     "name": "stdout",
     "output_type": "stream",
     "text": [
      "root\n",
      " |-- No: integer (nullable = true)\n",
      " |-- year: integer (nullable = true)\n",
      " |-- month: integer (nullable = true)\n",
      " |-- day: integer (nullable = true)\n",
      " |-- hour: integer (nullable = true)\n",
      " |-- pm2.5: integer (nullable = true)\n",
      " |-- DEWP: integer (nullable = true)\n",
      " |-- TEMP: double (nullable = true)\n",
      " |-- PRES: double (nullable = true)\n",
      " |-- cbwd: string (nullable = true)\n",
      " |-- Iws: double (nullable = true)\n",
      " |-- Is: integer (nullable = true)\n",
      " |-- Ir: integer (nullable = true)\n",
      "\n"
     ]
    }
   ],
   "source": [
    "df.printSchema()"
   ]
  },
  {
   "cell_type": "markdown",
   "id": "51c525e1-5a62-4739-9d94-a2af7b091bd5",
   "metadata": {},
   "source": [
    "## 2. 数据预览"
   ]
  },
  {
   "cell_type": "code",
   "execution_count": 5,
   "id": "3731053e-ebe1-4a2f-9d82-ccd013fa49a8",
   "metadata": {},
   "outputs": [
    {
     "name": "stdout",
     "output_type": "stream",
     "text": [
      "+---+----+-----+---+----+-----+----+-----+------+----+-----+---+---+\n",
      "|No |year|month|day|hour|pm2.5|DEWP|TEMP |PRES  |cbwd|Iws  |Is |Ir |\n",
      "+---+----+-----+---+----+-----+----+-----+------+----+-----+---+---+\n",
      "|1  |2010|1    |1  |0   |null |-21 |-11.0|1021.0|NW  |1.79 |0  |0  |\n",
      "|2  |2010|1    |1  |1   |null |-21 |-12.0|1020.0|NW  |4.92 |0  |0  |\n",
      "|3  |2010|1    |1  |2   |null |-21 |-11.0|1019.0|NW  |6.71 |0  |0  |\n",
      "|4  |2010|1    |1  |3   |null |-21 |-14.0|1019.0|NW  |9.84 |0  |0  |\n",
      "|5  |2010|1    |1  |4   |null |-20 |-12.0|1018.0|NW  |12.97|0  |0  |\n",
      "+---+----+-----+---+----+-----+----+-----+------+----+-----+---+---+\n",
      "only showing top 5 rows\n",
      "\n"
     ]
    }
   ],
   "source": [
    "df.show(5, truncate=False)"
   ]
  },
  {
   "cell_type": "markdown",
   "id": "f6ebdda1-1175-4328-856c-f04816e776d3",
   "metadata": {},
   "source": [
    "## 3. 缺失值统计"
   ]
  },
  {
   "cell_type": "code",
   "execution_count": 6,
   "id": "37d9d85e-4f0a-4e4a-aad1-de4a1f776fc7",
   "metadata": {},
   "outputs": [],
   "source": [
    "df = df.withColumnRenamed(\"pm2.5\", \"pm25\").withColumn(\n",
    "    \"date\",\n",
    "    F.to_date(\n",
    "        F.format_string(\n",
    "            \"%04d-%02d-%02d\", F.col(\"year\"), F.col(\"month\"), F.col(\"day\")\n",
    "        )\n",
    "    ),\n",
    ").withColumn(\n",
    "    \"timestamp\",\n",
    "    F.to_timestamp(\n",
    "        F.format_string(\n",
    "            \"%04d-%02d-%02d %02d:00:00\",\n",
    "            F.col(\"year\"),\n",
    "            F.col(\"month\"),\n",
    "            F.col(\"day\"),\n",
    "            F.col(\"hour\"),\n",
    "        )\n",
    "    ),\n",
    ")"
   ]
  },
  {
   "cell_type": "code",
   "execution_count": 7,
   "id": "d4ba30fd-9e94-41b6-b4ed-15adf3e767dc",
   "metadata": {},
   "outputs": [
    {
     "name": "stdout",
     "output_type": "stream",
     "text": [
      "+------------+------------+------------+------------+-----------+----------+----------+------------+\n",
      "|missing_pm25|missing_DEWP|missing_TEMP|missing_PRES|missing_Iws|missing_Is|missing_Ir|missing_cbwd|\n",
      "+------------+------------+------------+------------+-----------+----------+----------+------------+\n",
      "|2067        |0           |0           |0           |0          |0         |0         |0           |\n",
      "+------------+------------+------------+------------+-----------+----------+----------+------------+\n",
      "\n"
     ]
    }
   ],
   "source": [
    "missing_cols = [\"pm25\", \"DEWP\", \"TEMP\", \"PRES\", \"Iws\", \"Is\", \"Ir\", \"cbwd\"]\n",
    "missing_df = df.select(\n",
    "    *[\n",
    "        F.count(F.when(F.col(c).isNull(), 1)).alias(f\"missing_{c}\")\n",
    "        for c in missing_cols\n",
    "    ]\n",
    ")\n",
    "missing_df.show(truncate=False)"
   ]
  },
  {
   "cell_type": "markdown",
   "id": "dcc2c120-d6fe-45ea-b8fc-4854b7b50e36",
   "metadata": {},
   "source": [
    "## 4. PM2.5 基础统计指标"
   ]
  },
  {
   "cell_type": "code",
   "execution_count": 8,
   "id": "f6f2332e-1581-4e35-9179-5936ecb40d8b",
   "metadata": {},
   "outputs": [
    {
     "name": "stdout",
     "output_type": "stream",
     "text": [
      "+-----+-----------------+-----------------+---+---+\n",
      "|count|mean             |stddev           |min|max|\n",
      "+-----+-----------------+-----------------+---+---+\n",
      "|41757|98.61321455085375|92.05038718924065|0  |994|\n",
      "+-----+-----------------+-----------------+---+---+\n",
      "\n"
     ]
    }
   ],
   "source": [
    "df.select(\n",
    "    F.count(F.col(\"pm25\")).alias(\"count\"),\n",
    "    F.mean(\"pm25\").alias(\"mean\"),\n",
    "    F.stddev(\"pm25\").alias(\"stddev\"),\n",
    "    F.min(\"pm25\").alias(\"min\"),\n",
    "    F.max(\"pm25\").alias(\"max\"),\n",
    ").show(truncate=False)"
   ]
  },
  {
   "cell_type": "markdown",
   "id": "b4d92c86-d9b2-4d17-8d05-a57e2b48410a",
   "metadata": {},
   "source": [
    "## 5. PM2.5 月度均值"
   ]
  },
  {
   "cell_type": "code",
   "execution_count": 9,
   "id": "58c64abb-614d-4e3a-aab3-f485971cfc3b",
   "metadata": {},
   "outputs": [
    {
     "name": "stdout",
     "output_type": "stream",
     "text": [
      "+----+-----+------------------+---+\n",
      "|year|month|avg_pm25          |n  |\n",
      "+----+-----+------------------+---+\n",
      "|2010|1    |90.44257274119448 |744|\n",
      "|2010|2    |97.23397913561848 |672|\n",
      "|2010|3    |94.10014104372355 |744|\n",
      "|2010|4    |80.0292479108635  |720|\n",
      "|2010|5    |86.89959294436906 |744|\n",
      "|2010|6    |109.00353982300885|720|\n",
      "|2010|7    |123.64784946236558|744|\n",
      "|2010|8    |97.60207100591715 |744|\n",
      "|2010|9    |122.51068376068376|720|\n",
      "|2010|10   |118.98247978436657|744|\n",
      "|2010|11   |138.12048192771084|720|\n",
      "|2010|12   |97.33333333333333 |744|\n",
      "|2011|1    |44.89136904761905 |744|\n",
      "|2011|2    |150.32142857142858|672|\n",
      "|2011|3    |57.9184           |744|\n",
      "|2011|4    |91.58582089552239 |720|\n",
      "|2011|5    |65.32162921348315 |744|\n",
      "|2011|6    |108.46694796061885|720|\n",
      "|2011|7    |107.57219973009447|744|\n",
      "|2011|8    |103.42456140350878|744|\n",
      "|2011|9    |95.27260083449235 |720|\n",
      "|2011|10   |145.22564935064935|744|\n",
      "|2011|11   |109.63216783216784|720|\n",
      "|2011|12   |108.51951547779274|744|\n",
      "+----+-----+------------------+---+\n",
      "only showing top 24 rows\n",
      "\n"
     ]
    }
   ],
   "source": [
    "monthly = (\n",
    "    df.groupBy(\"year\", \"month\")\n",
    "    .agg(F.mean(\"pm25\").alias(\"avg_pm25\"), F.count(\"*\").alias(\"n\"))\n",
    "    .orderBy(\"year\", \"month\")\n",
    ")\n",
    "monthly.show(24, truncate=False)"
   ]
  },
  {
   "cell_type": "markdown",
   "id": "74f9034a-4707-4f17-9b59-edd2d9d33f18",
   "metadata": {},
   "source": [
    "## 6. PM2.5 月度均值（不计年份）"
   ]
  },
  {
   "cell_type": "code",
   "execution_count": 10,
   "id": "29e327f1-f06d-4c3b-9237-bffb11aa6c44",
   "metadata": {},
   "outputs": [
    {
     "name": "stdout",
     "output_type": "stream",
     "text": [
      "+-----+------------------+\n",
      "|month|avg_pm25          |\n",
      "+-----+------------------+\n",
      "|2    |125.73613993477616|\n",
      "|10   |120.40150880134115|\n",
      "|1    |115.05906078939786|\n",
      "|11   |105.76263924592973|\n",
      "|12   |98.20022592487997 |\n",
      "|3    |97.75759280089989 |\n",
      "|6    |96.5136563876652  |\n",
      "|7    |94.33232794077324 |\n",
      "|9    |85.20942094209421 |\n",
      "|4    |83.70925110132158 |\n",
      "|5    |80.11305070656691 |\n",
      "|8    |79.99670362601138 |\n",
      "+-----+------------------+\n",
      "\n"
     ]
    }
   ],
   "source": [
    "df.groupBy(\"month\").agg(F.mean(\"pm25\").alias(\"avg_pm25\")).orderBy(\n",
    "    F.desc(\"avg_pm25\")\n",
    ").show(12, truncate=False)"
   ]
  },
  {
   "cell_type": "markdown",
   "id": "047c6913-4409-4ba7-a060-43efc8701800",
   "metadata": {},
   "source": [
    "## 7. PM2.5 季度均值"
   ]
  },
  {
   "cell_type": "code",
   "execution_count": 11,
   "id": "36ffe1b4-c9a5-4f99-9a14-c38a1efcf8cd",
   "metadata": {},
   "outputs": [
    {
     "name": "stdout",
     "output_type": "stream",
     "text": [
      "+------+------------------+-----+\n",
      "|season|avg_pm25          |n    |\n",
      "+------+------------------+-----+\n",
      "|Winter|112.77852672123255|10824|\n",
      "|Fall  |104.21540382214539|10920|\n",
      "|Summer|90.44258350178073 |11040|\n",
      "|Spring|87.20756859035005 |11040|\n",
      "+------+------------------+-----+\n",
      "\n"
     ]
    }
   ],
   "source": [
    "season_expr = (\n",
    "    F.when(F.col(\"month\").isin(12, 1, 2), F.lit(\"Winter\"))\n",
    "    .when(F.col(\"month\").isin(3, 4, 5), F.lit(\"Spring\"))\n",
    "    .when(F.col(\"month\").isin(6, 7, 8), F.lit(\"Summer\"))\n",
    "    .otherwise(F.lit(\"Fall\"))\n",
    ")\n",
    "season_avg = (\n",
    "    df.withColumn(\"season\", season_expr)\n",
    "    .groupBy(\"season\")\n",
    "    .agg(F.mean(\"pm25\").alias(\"avg_pm25\"), F.count(\"*\").alias(\"n\"))\n",
    "    .orderBy(F.desc(\"avg_pm25\"))\n",
    ")\n",
    "season_avg.show(truncate=False)"
   ]
  },
  {
   "cell_type": "markdown",
   "id": "d3f23b90-203d-405a-a52f-74838dac95e0",
   "metadata": {},
   "source": [
    "## 8. PM2.5 小时均值"
   ]
  },
  {
   "cell_type": "code",
   "execution_count": 12,
   "id": "fe581369-8294-4e9d-8ac0-a598f2b16e70",
   "metadata": {},
   "outputs": [
    {
     "name": "stdout",
     "output_type": "stream",
     "text": [
      "+----+------------------+\n",
      "|hour|avg_pm25          |\n",
      "+----+------------------+\n",
      "|0   |113.39020172910662|\n",
      "|1   |113.69856733524355|\n",
      "|2   |110.32317423806785|\n",
      "|3   |108.0429799426934 |\n",
      "|4   |104.0802752293578 |\n",
      "|5   |100.0132183908046 |\n",
      "|6   |96.88275862068966 |\n",
      "|7   |96.02472685451409 |\n",
      "|8   |95.90794016110472 |\n",
      "|9   |94.67280046003451 |\n",
      "|10  |93.4475201845444  |\n",
      "|11  |91.67863346844238 |\n",
      "|12  |89.44887348353552 |\n",
      "|13  |87.99028016009149 |\n",
      "|14  |86.28324697754749 |\n",
      "|15  |85.53421506612996 |\n",
      "|16  |85.92227979274611 |\n",
      "|17  |87.57118254879448 |\n",
      "|18  |91.50770988006853 |\n",
      "|19  |97.398392652124   |\n",
      "|20  |104.61436781609196|\n",
      "|21  |109.2498564043653 |\n",
      "|22  |111.02125215393453|\n",
      "|23  |111.88978185993112|\n",
      "+----+------------------+\n",
      "\n"
     ]
    }
   ],
   "source": [
    "df.groupBy(\"hour\").agg(F.mean(\"pm25\").alias(\"avg_pm25\")).orderBy(\"hour\").show(\n",
    "    24, truncate=False\n",
    ")"
   ]
  },
  {
   "cell_type": "markdown",
   "id": "2315e58c-7c8c-406a-87d9-6d463c136a90",
   "metadata": {},
   "source": [
    "## 9. PM2.5 风向维度"
   ]
  },
  {
   "cell_type": "code",
   "execution_count": 13,
   "id": "5830f539-a016-422b-8bff-c1086a189d09",
   "metadata": {},
   "outputs": [
    {
     "name": "stdout",
     "output_type": "stream",
     "text": [
      "+----+------------------+-----+\n",
      "|cbwd|avg_pm25          |n    |\n",
      "+----+------------------+-----+\n",
      "|cv  |126.15194543828265|9387 |\n",
      "|SE  |110.82158786797503|15290|\n",
      "|NE  |90.17767031118586 |4997 |\n",
      "|NW  |70.12763274992584 |14150|\n",
      "+----+------------------+-----+\n",
      "\n"
     ]
    }
   ],
   "source": [
    "df.groupBy(\"cbwd\").agg(\n",
    "    F.mean(\"pm25\").alias(\"avg_pm25\"), F.count(\"*\").alias(\"n\")\n",
    ").orderBy(F.desc(\"avg_pm25\")).show(truncate=False)"
   ]
  },
  {
   "cell_type": "markdown",
   "id": "379270c4-569b-47d9-9481-5c03ba3aac68",
   "metadata": {},
   "source": [
    "## 10. 分位数"
   ]
  },
  {
   "cell_type": "code",
   "execution_count": 14,
   "id": "5575b5cf-239e-48c3-a5a0-e29130957449",
   "metadata": {},
   "outputs": [
    {
     "name": "stdout",
     "output_type": "stream",
     "text": [
      "pm25 median=72.0, p90=212.0, p99=994.0\n"
     ]
    }
   ],
   "source": [
    "q50, q90, q99 = df.approxQuantile(\"pm25\", [0.5, 0.9, 0.99], 0.01)\n",
    "print(f\"pm25 median={q50}, p90={q90}, p99={q99}\")\n"
   ]
  },
  {
   "cell_type": "markdown",
   "id": "ea8143c0-39f0-4889-91c4-6d976a0d61d0",
   "metadata": {},
   "source": [
    "## 11. 重污染特征"
   ]
  },
  {
   "cell_type": "code",
   "execution_count": 15,
   "id": "dcaabeb2-9ebe-465f-9714-9ecd000d67d5",
   "metadata": {},
   "outputs": [
    {
     "name": "stdout",
     "output_type": "stream",
     "text": [
      "+---------+---------+---------+--------+-----+\n",
      "|mean_TEMP|mean_DEWP|mean_PRES|mean_Iws|count|\n",
      "+---------+---------+---------+--------+-----+\n",
      "|-12.0    |-24.0    |1032.0   |4.92    |1    |\n",
      "+---------+---------+---------+--------+-----+\n",
      "\n"
     ]
    }
   ],
   "source": [
    "high = df.filter(F.col(\"pm25\") >= F.lit(q99))\n",
    "high_stats = high.agg(\n",
    "    F.mean(\"TEMP\").alias(\"mean_TEMP\"),\n",
    "    F.mean(\"DEWP\").alias(\"mean_DEWP\"),\n",
    "    F.mean(\"PRES\").alias(\"mean_PRES\"),\n",
    "    F.mean(\"Iws\").alias(\"mean_Iws\"),\n",
    "    F.count(\"*\").alias(\"count\"),\n",
    ")\n",
    "high_stats.show(truncate=False)"
   ]
  },
  {
   "cell_type": "markdown",
   "id": "663358e6-8aa6-4404-bf58-b5ec3213a0f8",
   "metadata": {},
   "source": [
    "## 12. 重污染 top20"
   ]
  },
  {
   "cell_type": "code",
   "execution_count": 16,
   "id": "8d552202-e5e2-4775-93aa-2a5c08a745a4",
   "metadata": {},
   "outputs": [
    {
     "name": "stdout",
     "output_type": "stream",
     "text": [
      "+----+-----+---+----+----+-----+----+------+-----+----+\n",
      "|year|month|day|hour|pm25|TEMP |DEWP|PRES  |Iws  |cbwd|\n",
      "+----+-----+---+----+----+-----+----+------+-----+----+\n",
      "|2012|1    |23 |1   |994 |-12.0|-24 |1032.0|4.92 |NW  |\n",
      "|2010|2    |14 |1   |980 |-7.0 |-14 |1029.0|0.89 |cv  |\n",
      "|2012|1    |23 |2   |972 |-12.0|-24 |1032.0|8.05 |NW  |\n",
      "|2013|1    |12 |20  |886 |-7.0 |-8  |1023.0|1.34 |cv  |\n",
      "|2013|1    |12 |22  |858 |-9.0 |-10 |1024.0|0.89 |cv  |\n",
      "|2013|1    |12 |21  |852 |-8.0 |-9  |1023.0|0.89 |NE  |\n",
      "|2013|1    |12 |16  |845 |-2.0 |-7  |1021.0|8.95 |SE  |\n",
      "|2013|1    |12 |19  |824 |-7.0 |-8  |1022.0|0.89 |cv  |\n",
      "|2013|1    |12 |17  |810 |-4.0 |-7  |1021.0|9.84 |SE  |\n",
      "|2013|1    |12 |23  |805 |-9.0 |-10 |1024.0|1.79 |NW  |\n",
      "|2013|1    |12 |15  |802 |-1.0 |-7  |1021.0|7.16 |SE  |\n",
      "|2010|3    |22 |10  |784 |11.0 |-8  |1013.0|11.18|NW  |\n",
      "|2013|1    |12 |18  |776 |-6.0 |-8  |1021.0|11.63|SE  |\n",
      "|2010|3    |22 |11  |761 |12.0 |-10 |1013.0|18.33|NW  |\n",
      "|2013|1    |13 |0   |744 |-8.0 |-9  |1024.0|2.68 |NW  |\n",
      "|2013|1    |13 |1   |731 |-7.0 |-8  |1025.0|4.47 |NW  |\n",
      "|2013|1    |13 |2   |722 |-5.0 |-6  |1025.0|0.89 |SE  |\n",
      "|2010|3    |20 |4   |700 |6.0  |2   |1000.0|4.92 |NW  |\n",
      "|2013|1    |13 |3   |684 |-5.0 |-6  |1025.0|1.79 |NW  |\n",
      "|2013|1    |13 |5   |673 |-5.0 |-6  |1025.0|0.89 |cv  |\n",
      "+----+-----+---+----+----+-----+----+------+-----+----+\n",
      "\n"
     ]
    }
   ],
   "source": [
    "df.orderBy(F.desc(\"pm25\")).select(\n",
    "    \"year\",\n",
    "    \"month\",\n",
    "    \"day\",\n",
    "    \"hour\",\n",
    "    \"pm25\",\n",
    "    \"TEMP\",\n",
    "    \"DEWP\",\n",
    "    \"PRES\",\n",
    "    \"Iws\",\n",
    "    \"cbwd\",\n",
    ").limit(20).show(truncate=False)"
   ]
  },
  {
   "cell_type": "markdown",
   "id": "889bdb3f-0b71-47a9-baa3-08c069c5afe8",
   "metadata": {},
   "source": [
    "## 13. 相关性（Pearson）"
   ]
  },
  {
   "cell_type": "code",
   "execution_count": 17,
   "id": "8d1bd670-a8c9-487d-af11-4cfa907ab9cf",
   "metadata": {},
   "outputs": [
    {
     "name": "stdout",
     "output_type": "stream",
     "text": [
      "corr(pm25, TEMP) = -0.0898\n",
      "corr(pm25, DEWP) = 0.1582\n",
      "corr(pm25, PRES) = -0.0456\n",
      "corr(pm25, Iws)  = -0.2342\n"
     ]
    }
   ],
   "source": [
    "c_temp = df.stat.corr(\"pm25\", \"TEMP\")\n",
    "c_dewp = df.stat.corr(\"pm25\", \"DEWP\")\n",
    "c_pres = df.stat.corr(\"pm25\", \"PRES\")\n",
    "c_iws = df.stat.corr(\"pm25\", \"Iws\")\n",
    "print(f\"corr(pm25, TEMP) = {c_temp:.4f}\")\n",
    "print(f\"corr(pm25, DEWP) = {c_dewp:.4f}\")\n",
    "print(f\"corr(pm25, PRES) = {c_pres:.4f}\")\n",
    "print(f\"corr(pm25, Iws)  = {c_iws:.4f}\")"
   ]
  },
  {
   "cell_type": "code",
   "execution_count": null,
   "id": "b71f2e81-f7f6-4ad2-aedb-011d3dca26ce",
   "metadata": {},
   "outputs": [],
   "source": []
  }
 ],
 "metadata": {
  "kernelspec": {
   "display_name": "Python 3 (ipykernel)",
   "language": "python",
   "name": "python3"
  },
  "language_info": {
   "codemirror_mode": {
    "name": "ipython",
    "version": 3
   },
   "file_extension": ".py",
   "mimetype": "text/x-python",
   "name": "python",
   "nbconvert_exporter": "python",
   "pygments_lexer": "ipython3",
   "version": "3.9.23"
  }
 },
 "nbformat": 4,
 "nbformat_minor": 5
}
